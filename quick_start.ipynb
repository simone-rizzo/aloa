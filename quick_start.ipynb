{
 "cells": [
  {
   "cell_type": "code",
   "execution_count": 1,
   "id": "e463bd4e",
   "metadata": {},
   "outputs": [
    {
     "name": "stdout",
     "output_type": "stream",
     "text": [
      "Requirement already satisfied: pip in c:\\users\\simone\\anaconda3\\lib\\site-packages (23.1.2)\n",
      "Note: you may need to restart the kernel to use updated packages.\n"
     ]
    }
   ],
   "source": [
    "pip install --upgrade pip"
   ]
  },
  {
   "cell_type": "code",
   "execution_count": 2,
   "id": "21f274b6",
   "metadata": {},
   "outputs": [
    {
     "name": "stdout",
     "output_type": "stream",
     "text": [
      "Requirement already satisfied: hmmlearn==0.2.5 in c:\\users\\simone\\anaconda3\\lib\\site-packages (from -r requirements.txt (line 1)) (0.2.5)\n",
      "Requirement already satisfied: imbalanced-learn==0.9.0 in c:\\users\\simone\\anaconda3\\lib\\site-packages (from -r requirements.txt (line 2)) (0.9.0)\n",
      "Requirement already satisfied: imblearn==0.0 in c:\\users\\simone\\anaconda3\\lib\\site-packages (from -r requirements.txt (line 3)) (0.0)\n",
      "Requirement already satisfied: joblib==1.0.0 in c:\\users\\simone\\anaconda3\\lib\\site-packages (from -r requirements.txt (line 4)) (1.0.0)\n",
      "Requirement already satisfied: json5==0.9.6 in c:\\users\\simone\\anaconda3\\lib\\site-packages (from -r requirements.txt (line 5)) (0.9.6)\n",
      "Requirement already satisfied: jsonschema==4.2.1 in c:\\users\\simone\\anaconda3\\lib\\site-packages (from -r requirements.txt (line 6)) (4.2.1)\n",
      "Requirement already satisfied: keras==2.9.0 in c:\\users\\simone\\anaconda3\\lib\\site-packages (from -r requirements.txt (line 7)) (2.9.0)\n",
      "Requirement already satisfied: Keras-Preprocessing==1.1.2 in c:\\users\\simone\\anaconda3\\lib\\site-packages (from -r requirements.txt (line 8)) (1.1.2)\n",
      "Collecting numpy==1.21.6 (from -r requirements.txt (line 9))\n",
      "  Using cached numpy-1.21.6-cp310-cp310-win_amd64.whl (14.0 MB)\n",
      "Requirement already satisfied: pandas==1.3.5 in c:\\users\\simone\\anaconda3\\lib\\site-packages (from -r requirements.txt (line 10)) (1.3.5)\n",
      "Requirement already satisfied: py==1.11.0 in c:\\users\\simone\\anaconda3\\lib\\site-packages (from -r requirements.txt (line 11)) (1.11.0)\n",
      "Requirement already satisfied: tensorboard==2.9.1 in c:\\users\\simone\\anaconda3\\lib\\site-packages (from -r requirements.txt (line 12)) (2.9.1)\n",
      "Requirement already satisfied: tensorboard-data-server==0.6.1 in c:\\users\\simone\\anaconda3\\lib\\site-packages (from -r requirements.txt (line 13)) (0.6.1)\n",
      "Requirement already satisfied: tensorboard-plugin-wit==1.8.1 in c:\\users\\simone\\anaconda3\\lib\\site-packages (from -r requirements.txt (line 14)) (1.8.1)\n",
      "Requirement already satisfied: tensorflow==2.9.1 in c:\\users\\simone\\anaconda3\\lib\\site-packages (from -r requirements.txt (line 15)) (2.9.1)\n",
      "Requirement already satisfied: tensorflow-estimator==2.9.0 in c:\\users\\simone\\anaconda3\\lib\\site-packages (from -r requirements.txt (line 16)) (2.9.0)\n",
      "Requirement already satisfied: tensorflow-io-gcs-filesystem==0.26.0 in c:\\users\\simone\\anaconda3\\lib\\site-packages (from -r requirements.txt (line 17)) (0.26.0)\n",
      "Requirement already satisfied: torch==1.13.0 in c:\\users\\simone\\anaconda3\\lib\\site-packages (from -r requirements.txt (line 18)) (1.13.0)\n",
      "Requirement already satisfied: torchvision==0.14.0 in c:\\users\\simone\\anaconda3\\lib\\site-packages (from -r requirements.txt (line 19)) (0.14.0)\n",
      "Requirement already satisfied: tqdm==4.62.3 in c:\\users\\simone\\anaconda3\\lib\\site-packages (from -r requirements.txt (line 20)) (4.62.3)\n",
      "Requirement already satisfied: scikit-learn>=0.16 in c:\\users\\simone\\anaconda3\\lib\\site-packages (from hmmlearn==0.2.5->-r requirements.txt (line 1)) (1.1.3)\n",
      "Requirement already satisfied: scipy>=0.19 in c:\\users\\simone\\anaconda3\\lib\\site-packages (from hmmlearn==0.2.5->-r requirements.txt (line 1)) (1.10.0)\n",
      "Requirement already satisfied: threadpoolctl>=2.0.0 in c:\\users\\simone\\anaconda3\\lib\\site-packages (from imbalanced-learn==0.9.0->-r requirements.txt (line 2)) (2.2.0)\n",
      "Requirement already satisfied: attrs>=17.4.0 in c:\\users\\simone\\anaconda3\\lib\\site-packages (from jsonschema==4.2.1->-r requirements.txt (line 6)) (22.1.0)\n",
      "Requirement already satisfied: pyrsistent!=0.17.0,!=0.17.1,!=0.17.2,>=0.14.0 in c:\\users\\simone\\anaconda3\\lib\\site-packages (from jsonschema==4.2.1->-r requirements.txt (line 6)) (0.18.0)\n",
      "Requirement already satisfied: six>=1.9.0 in c:\\users\\simone\\anaconda3\\lib\\site-packages (from Keras-Preprocessing==1.1.2->-r requirements.txt (line 8)) (1.16.0)\n",
      "Requirement already satisfied: python-dateutil>=2.7.3 in c:\\users\\simone\\anaconda3\\lib\\site-packages (from pandas==1.3.5->-r requirements.txt (line 10)) (2.8.2)\n",
      "Requirement already satisfied: pytz>=2017.3 in c:\\users\\simone\\anaconda3\\lib\\site-packages (from pandas==1.3.5->-r requirements.txt (line 10)) (2022.7)\n",
      "Requirement already satisfied: absl-py>=0.4 in c:\\users\\simone\\anaconda3\\lib\\site-packages (from tensorboard==2.9.1->-r requirements.txt (line 12)) (1.4.0)\n",
      "Requirement already satisfied: grpcio>=1.24.3 in c:\\users\\simone\\anaconda3\\lib\\site-packages (from tensorboard==2.9.1->-r requirements.txt (line 12)) (1.54.2)\n",
      "Requirement already satisfied: google-auth<3,>=1.6.3 in c:\\users\\simone\\anaconda3\\lib\\site-packages (from tensorboard==2.9.1->-r requirements.txt (line 12)) (2.19.1)\n",
      "Requirement already satisfied: google-auth-oauthlib<0.5,>=0.4.1 in c:\\users\\simone\\anaconda3\\lib\\site-packages (from tensorboard==2.9.1->-r requirements.txt (line 12)) (0.4.6)\n",
      "Requirement already satisfied: markdown>=2.6.8 in c:\\users\\simone\\anaconda3\\lib\\site-packages (from tensorboard==2.9.1->-r requirements.txt (line 12)) (3.4.1)\n",
      "Requirement already satisfied: protobuf<3.20,>=3.9.2 in c:\\users\\simone\\anaconda3\\lib\\site-packages (from tensorboard==2.9.1->-r requirements.txt (line 12)) (3.19.6)\n",
      "Requirement already satisfied: requests<3,>=2.21.0 in c:\\users\\simone\\anaconda3\\lib\\site-packages (from tensorboard==2.9.1->-r requirements.txt (line 12)) (2.28.1)\n",
      "Requirement already satisfied: setuptools>=41.0.0 in c:\\users\\simone\\anaconda3\\lib\\site-packages (from tensorboard==2.9.1->-r requirements.txt (line 12)) (65.6.3)\n",
      "Requirement already satisfied: werkzeug>=1.0.1 in c:\\users\\simone\\anaconda3\\lib\\site-packages (from tensorboard==2.9.1->-r requirements.txt (line 12)) (2.2.2)\n",
      "Requirement already satisfied: wheel>=0.26 in c:\\users\\simone\\anaconda3\\lib\\site-packages (from tensorboard==2.9.1->-r requirements.txt (line 12)) (0.38.4)\n",
      "Requirement already satisfied: astunparse>=1.6.0 in c:\\users\\simone\\anaconda3\\lib\\site-packages (from tensorflow==2.9.1->-r requirements.txt (line 15)) (1.6.3)\n",
      "Requirement already satisfied: flatbuffers<2,>=1.12 in c:\\users\\simone\\anaconda3\\lib\\site-packages (from tensorflow==2.9.1->-r requirements.txt (line 15)) (1.12)\n",
      "Requirement already satisfied: gast<=0.4.0,>=0.2.1 in c:\\users\\simone\\anaconda3\\lib\\site-packages (from tensorflow==2.9.1->-r requirements.txt (line 15)) (0.4.0)\n",
      "Requirement already satisfied: google-pasta>=0.1.1 in c:\\users\\simone\\anaconda3\\lib\\site-packages (from tensorflow==2.9.1->-r requirements.txt (line 15)) (0.2.0)\n",
      "Requirement already satisfied: h5py>=2.9.0 in c:\\users\\simone\\anaconda3\\lib\\site-packages (from tensorflow==2.9.1->-r requirements.txt (line 15)) (3.7.0)\n",
      "Requirement already satisfied: libclang>=13.0.0 in c:\\users\\simone\\anaconda3\\lib\\site-packages (from tensorflow==2.9.1->-r requirements.txt (line 15)) (16.0.0)\n",
      "Requirement already satisfied: opt-einsum>=2.3.2 in c:\\users\\simone\\anaconda3\\lib\\site-packages (from tensorflow==2.9.1->-r requirements.txt (line 15)) (3.3.0)\n",
      "Requirement already satisfied: packaging in c:\\users\\simone\\anaconda3\\lib\\site-packages (from tensorflow==2.9.1->-r requirements.txt (line 15)) (22.0)\n",
      "Requirement already satisfied: termcolor>=1.1.0 in c:\\users\\simone\\anaconda3\\lib\\site-packages (from tensorflow==2.9.1->-r requirements.txt (line 15)) (2.3.0)\n",
      "Requirement already satisfied: typing-extensions>=3.6.6 in c:\\users\\simone\\anaconda3\\lib\\site-packages (from tensorflow==2.9.1->-r requirements.txt (line 15)) (4.4.0)\n",
      "Requirement already satisfied: wrapt>=1.11.0 in c:\\users\\simone\\anaconda3\\lib\\site-packages (from tensorflow==2.9.1->-r requirements.txt (line 15)) (1.14.1)\n",
      "Requirement already satisfied: pillow!=8.3.*,>=5.3.0 in c:\\users\\simone\\anaconda3\\lib\\site-packages (from torchvision==0.14.0->-r requirements.txt (line 19)) (9.4.0)\n",
      "Requirement already satisfied: colorama in c:\\users\\simone\\anaconda3\\lib\\site-packages (from tqdm==4.62.3->-r requirements.txt (line 20)) (0.4.6)\n",
      "Requirement already satisfied: cachetools<6.0,>=2.0.0 in c:\\users\\simone\\anaconda3\\lib\\site-packages (from google-auth<3,>=1.6.3->tensorboard==2.9.1->-r requirements.txt (line 12)) (5.3.1)\n",
      "Requirement already satisfied: pyasn1-modules>=0.2.1 in c:\\users\\simone\\anaconda3\\lib\\site-packages (from google-auth<3,>=1.6.3->tensorboard==2.9.1->-r requirements.txt (line 12)) (0.2.8)\n",
      "Requirement already satisfied: rsa<5,>=3.1.4 in c:\\users\\simone\\anaconda3\\lib\\site-packages (from google-auth<3,>=1.6.3->tensorboard==2.9.1->-r requirements.txt (line 12)) (4.9)\n",
      "Requirement already satisfied: urllib3<2.0 in c:\\users\\simone\\anaconda3\\lib\\site-packages (from google-auth<3,>=1.6.3->tensorboard==2.9.1->-r requirements.txt (line 12)) (1.26.14)\n",
      "Requirement already satisfied: requests-oauthlib>=0.7.0 in c:\\users\\simone\\anaconda3\\lib\\site-packages (from google-auth-oauthlib<0.5,>=0.4.1->tensorboard==2.9.1->-r requirements.txt (line 12)) (1.3.1)\n",
      "Requirement already satisfied: charset-normalizer<3,>=2 in c:\\users\\simone\\anaconda3\\lib\\site-packages (from requests<3,>=2.21.0->tensorboard==2.9.1->-r requirements.txt (line 12)) (2.0.4)\n",
      "Requirement already satisfied: idna<4,>=2.5 in c:\\users\\simone\\anaconda3\\lib\\site-packages (from requests<3,>=2.21.0->tensorboard==2.9.1->-r requirements.txt (line 12)) (3.4)\n",
      "Requirement already satisfied: certifi>=2017.4.17 in c:\\users\\simone\\anaconda3\\lib\\site-packages (from requests<3,>=2.21.0->tensorboard==2.9.1->-r requirements.txt (line 12)) (2022.12.7)\n",
      "Requirement already satisfied: MarkupSafe>=2.1.1 in c:\\users\\simone\\anaconda3\\lib\\site-packages (from werkzeug>=1.0.1->tensorboard==2.9.1->-r requirements.txt (line 12)) (2.1.1)\n",
      "Requirement already satisfied: pyasn1<0.5.0,>=0.4.6 in c:\\users\\simone\\anaconda3\\lib\\site-packages (from pyasn1-modules>=0.2.1->google-auth<3,>=1.6.3->tensorboard==2.9.1->-r requirements.txt (line 12)) (0.4.8)\n",
      "Requirement already satisfied: oauthlib>=3.0.0 in c:\\users\\simone\\anaconda3\\lib\\site-packages (from requests-oauthlib>=0.7.0->google-auth-oauthlib<0.5,>=0.4.1->tensorboard==2.9.1->-r requirements.txt (line 12)) (3.2.2)\n",
      "Installing collected packages: numpy\n",
      "  Attempting uninstall: numpy\n",
      "    Found existing installation: numpy 1.24.3\n",
      "    Uninstalling numpy-1.24.3:\n",
      "      Successfully uninstalled numpy-1.24.3\n",
      "Note: you may need to restart the kernel to use updated packages.\n"
     ]
    },
    {
     "name": "stderr",
     "output_type": "stream",
     "text": [
      "ERROR: Could not install packages due to an OSError: [WinError 5] Accesso negato: 'C:\\\\Users\\\\Simone\\\\anaconda3\\\\Lib\\\\site-packages\\\\~~mpy\\\\.libs\\\\libopenblas64__v0.3.21-gcc_10_3_0.dll'\n",
      "Consider using the `--user` option or check the permissions.\n",
      "\n"
     ]
    }
   ],
   "source": [
    "pip install -r requirements.txt"
   ]
  },
  {
   "cell_type": "code",
   "execution_count": 4,
   "id": "09dc6c51",
   "metadata": {},
   "outputs": [
    {
     "ename": "ImportError",
     "evalue": "cannot import name '_joblib_parallel_args' from 'sklearn.utils.fixes' (C:\\Users\\Simone\\anaconda3\\lib\\site-packages\\sklearn\\utils\\fixes.py)",
     "output_type": "error",
     "traceback": [
      "\u001b[1;31m---------------------------------------------------------------------------\u001b[0m",
      "\u001b[1;31mImportError\u001b[0m                               Traceback (most recent call last)",
      "Cell \u001b[1;32mIn[4], line 1\u001b[0m\n\u001b[1;32m----> 1\u001b[0m \u001b[38;5;28;01mfrom\u001b[39;00m \u001b[38;5;21;01mcore\u001b[39;00m\u001b[38;5;21;01m.\u001b[39;00m\u001b[38;5;21;01mlblonly_attacks\u001b[39;00m \u001b[38;5;28;01mimport\u001b[39;00m LabelOnly_attack\n",
      "File \u001b[1;32m~\\Documents\\mia\\core\\lblonly_attacks.py:15\u001b[0m\n\u001b[0;32m     13\u001b[0m \u001b[38;5;28;01mimport\u001b[39;00m \u001b[38;5;21;01mpandas\u001b[39;00m \u001b[38;5;28;01mas\u001b[39;00m \u001b[38;5;21;01mpd\u001b[39;00m\n\u001b[0;32m     14\u001b[0m \u001b[38;5;28;01mfrom\u001b[39;00m \u001b[38;5;21;01mmath\u001b[39;00m \u001b[38;5;28;01mimport\u001b[39;00m ceil\n\u001b[1;32m---> 15\u001b[0m \u001b[38;5;28;01mfrom\u001b[39;00m \u001b[38;5;21;01mimblearn\u001b[39;00m\u001b[38;5;21;01m.\u001b[39;00m\u001b[38;5;21;01munder_sampling\u001b[39;00m \u001b[38;5;28;01mimport\u001b[39;00m RandomUnderSampler\n\u001b[0;32m     16\u001b[0m \u001b[38;5;28;01mfrom\u001b[39;00m \u001b[38;5;21;01msklearn\u001b[39;00m\u001b[38;5;21;01m.\u001b[39;00m\u001b[38;5;21;01mensemble\u001b[39;00m \u001b[38;5;28;01mimport\u001b[39;00m RandomForestClassifier\n\u001b[0;32m     17\u001b[0m \u001b[38;5;28;01mfrom\u001b[39;00m \u001b[38;5;21;01msklearn\u001b[39;00m\u001b[38;5;21;01m.\u001b[39;00m\u001b[38;5;21;01mmetrics\u001b[39;00m \u001b[38;5;28;01mimport\u001b[39;00m classification_report, accuracy_score, roc_curve\n",
      "File \u001b[1;32m~\\anaconda3\\lib\\site-packages\\imblearn\\__init__.py:53\u001b[0m\n\u001b[0;32m     49\u001b[0m     \u001b[38;5;66;03m# We are not importing the rest of scikit-learn during the build\u001b[39;00m\n\u001b[0;32m     50\u001b[0m     \u001b[38;5;66;03m# process, as it may not be compiled yet\u001b[39;00m\n\u001b[0;32m     51\u001b[0m \u001b[38;5;28;01melse\u001b[39;00m:\n\u001b[0;32m     52\u001b[0m     \u001b[38;5;28;01mfrom\u001b[39;00m \u001b[38;5;21;01m.\u001b[39;00m \u001b[38;5;28;01mimport\u001b[39;00m combine\n\u001b[1;32m---> 53\u001b[0m     \u001b[38;5;28;01mfrom\u001b[39;00m \u001b[38;5;21;01m.\u001b[39;00m \u001b[38;5;28;01mimport\u001b[39;00m ensemble\n\u001b[0;32m     54\u001b[0m     \u001b[38;5;28;01mfrom\u001b[39;00m \u001b[38;5;21;01m.\u001b[39;00m \u001b[38;5;28;01mimport\u001b[39;00m exceptions\n\u001b[0;32m     55\u001b[0m     \u001b[38;5;28;01mfrom\u001b[39;00m \u001b[38;5;21;01m.\u001b[39;00m \u001b[38;5;28;01mimport\u001b[39;00m metrics\n",
      "File \u001b[1;32m~\\anaconda3\\lib\\site-packages\\imblearn\\ensemble\\__init__.py:8\u001b[0m\n\u001b[0;32m      6\u001b[0m \u001b[38;5;28;01mfrom\u001b[39;00m \u001b[38;5;21;01m.\u001b[39;00m\u001b[38;5;21;01m_easy_ensemble\u001b[39;00m \u001b[38;5;28;01mimport\u001b[39;00m EasyEnsembleClassifier\n\u001b[0;32m      7\u001b[0m \u001b[38;5;28;01mfrom\u001b[39;00m \u001b[38;5;21;01m.\u001b[39;00m\u001b[38;5;21;01m_bagging\u001b[39;00m \u001b[38;5;28;01mimport\u001b[39;00m BalancedBaggingClassifier\n\u001b[1;32m----> 8\u001b[0m \u001b[38;5;28;01mfrom\u001b[39;00m \u001b[38;5;21;01m.\u001b[39;00m\u001b[38;5;21;01m_forest\u001b[39;00m \u001b[38;5;28;01mimport\u001b[39;00m BalancedRandomForestClassifier\n\u001b[0;32m      9\u001b[0m \u001b[38;5;28;01mfrom\u001b[39;00m \u001b[38;5;21;01m.\u001b[39;00m\u001b[38;5;21;01m_weight_boosting\u001b[39;00m \u001b[38;5;28;01mimport\u001b[39;00m RUSBoostClassifier\n\u001b[0;32m     11\u001b[0m __all__ \u001b[38;5;241m=\u001b[39m [\n\u001b[0;32m     12\u001b[0m     \u001b[38;5;124m\"\u001b[39m\u001b[38;5;124mBalancedBaggingClassifier\u001b[39m\u001b[38;5;124m\"\u001b[39m,\n\u001b[0;32m     13\u001b[0m     \u001b[38;5;124m\"\u001b[39m\u001b[38;5;124mBalancedRandomForestClassifier\u001b[39m\u001b[38;5;124m\"\u001b[39m,\n\u001b[0;32m     14\u001b[0m     \u001b[38;5;124m\"\u001b[39m\u001b[38;5;124mEasyEnsembleClassifier\u001b[39m\u001b[38;5;124m\"\u001b[39m,\n\u001b[0;32m     15\u001b[0m     \u001b[38;5;124m\"\u001b[39m\u001b[38;5;124mRUSBoostClassifier\u001b[39m\u001b[38;5;124m\"\u001b[39m,\n\u001b[0;32m     16\u001b[0m ]\n",
      "File \u001b[1;32m~\\anaconda3\\lib\\site-packages\\imblearn\\ensemble\\_forest.py:28\u001b[0m\n\u001b[0;32m     26\u001b[0m \u001b[38;5;28;01mfrom\u001b[39;00m \u001b[38;5;21;01msklearn\u001b[39;00m\u001b[38;5;21;01m.\u001b[39;00m\u001b[38;5;21;01mutils\u001b[39;00m \u001b[38;5;28;01mimport\u001b[39;00m check_random_state\n\u001b[0;32m     27\u001b[0m \u001b[38;5;28;01mfrom\u001b[39;00m \u001b[38;5;21;01msklearn\u001b[39;00m\u001b[38;5;21;01m.\u001b[39;00m\u001b[38;5;21;01mutils\u001b[39;00m \u001b[38;5;28;01mimport\u001b[39;00m _safe_indexing\n\u001b[1;32m---> 28\u001b[0m \u001b[38;5;28;01mfrom\u001b[39;00m \u001b[38;5;21;01msklearn\u001b[39;00m\u001b[38;5;21;01m.\u001b[39;00m\u001b[38;5;21;01mutils\u001b[39;00m\u001b[38;5;21;01m.\u001b[39;00m\u001b[38;5;21;01mfixes\u001b[39;00m \u001b[38;5;28;01mimport\u001b[39;00m _joblib_parallel_args\n\u001b[0;32m     29\u001b[0m \u001b[38;5;28;01mfrom\u001b[39;00m \u001b[38;5;21;01msklearn\u001b[39;00m\u001b[38;5;21;01m.\u001b[39;00m\u001b[38;5;21;01mutils\u001b[39;00m\u001b[38;5;21;01m.\u001b[39;00m\u001b[38;5;21;01mvalidation\u001b[39;00m \u001b[38;5;28;01mimport\u001b[39;00m _check_sample_weight\n\u001b[0;32m     31\u001b[0m \u001b[38;5;28;01mfrom\u001b[39;00m \u001b[38;5;21;01m.\u001b[39;00m\u001b[38;5;21;01m.\u001b[39;00m\u001b[38;5;21;01mpipeline\u001b[39;00m \u001b[38;5;28;01mimport\u001b[39;00m make_pipeline\n",
      "\u001b[1;31mImportError\u001b[0m: cannot import name '_joblib_parallel_args' from 'sklearn.utils.fixes' (C:\\Users\\Simone\\anaconda3\\lib\\site-packages\\sklearn\\utils\\fixes.py)"
     ]
    }
   ],
   "source": [
    "from core.lblonly_attacks import LabelOnly_attack"
   ]
  },
  {
   "cell_type": "code",
   "execution_count": 6,
   "id": "b17c787c",
   "metadata": {},
   "outputs": [
    {
     "ename": "ValueError",
     "evalue": "numpy.ndarray size changed, may indicate binary incompatibility. Expected 96 from C header, got 88 from PyObject",
     "output_type": "error",
     "traceback": [
      "\u001b[1;31m---------------------------------------------------------------------------\u001b[0m",
      "\u001b[1;31mValueError\u001b[0m                                Traceback (most recent call last)",
      "Cell \u001b[1;32mIn[6], line 1\u001b[0m\n\u001b[1;32m----> 1\u001b[0m \u001b[38;5;28;01mfrom\u001b[39;00m \u001b[38;5;21;01mbboxes\u001b[39;00m\u001b[38;5;21;01m.\u001b[39;00m\u001b[38;5;21;01mnnbb\u001b[39;00m \u001b[38;5;28;01mimport\u001b[39;00m NeuralNetworkBlackBox\n",
      "File \u001b[1;32m~\\Documents\\mia\\bboxes\\nnbb.py:3\u001b[0m\n\u001b[0;32m      1\u001b[0m \u001b[38;5;28;01mfrom\u001b[39;00m \u001b[38;5;21;01mtabnanny\u001b[39;00m \u001b[38;5;28;01mimport\u001b[39;00m verbose\n\u001b[0;32m      2\u001b[0m \u001b[38;5;28;01mfrom\u001b[39;00m \u001b[38;5;21;01mkeras\u001b[39;00m \u001b[38;5;28;01mimport\u001b[39;00m layers\n\u001b[1;32m----> 3\u001b[0m \u001b[38;5;28;01mfrom\u001b[39;00m \u001b[38;5;21;01msklearn\u001b[39;00m\u001b[38;5;21;01m.\u001b[39;00m\u001b[38;5;21;01mmetrics\u001b[39;00m \u001b[38;5;28;01mimport\u001b[39;00m classification_report\n\u001b[0;32m      4\u001b[0m \u001b[38;5;28;01mfrom\u001b[39;00m \u001b[38;5;21;01msklearn\u001b[39;00m\u001b[38;5;21;01m.\u001b[39;00m\u001b[38;5;21;01mpreprocessing\u001b[39;00m \u001b[38;5;28;01mimport\u001b[39;00m StandardScaler\n\u001b[0;32m      5\u001b[0m \u001b[38;5;28;01mfrom\u001b[39;00m \u001b[38;5;21;01mtensorflow\u001b[39;00m \u001b[38;5;28;01mimport\u001b[39;00m keras\n",
      "File \u001b[1;32m~\\anaconda3\\lib\\site-packages\\sklearn\\__init__.py:82\u001b[0m\n\u001b[0;32m     80\u001b[0m \u001b[38;5;28;01mfrom\u001b[39;00m \u001b[38;5;21;01m.\u001b[39;00m \u001b[38;5;28;01mimport\u001b[39;00m _distributor_init  \u001b[38;5;66;03m# noqa: F401\u001b[39;00m\n\u001b[0;32m     81\u001b[0m \u001b[38;5;28;01mfrom\u001b[39;00m \u001b[38;5;21;01m.\u001b[39;00m \u001b[38;5;28;01mimport\u001b[39;00m __check_build  \u001b[38;5;66;03m# noqa: F401\u001b[39;00m\n\u001b[1;32m---> 82\u001b[0m \u001b[38;5;28;01mfrom\u001b[39;00m \u001b[38;5;21;01m.\u001b[39;00m\u001b[38;5;21;01mbase\u001b[39;00m \u001b[38;5;28;01mimport\u001b[39;00m clone\n\u001b[0;32m     83\u001b[0m \u001b[38;5;28;01mfrom\u001b[39;00m \u001b[38;5;21;01m.\u001b[39;00m\u001b[38;5;21;01mutils\u001b[39;00m\u001b[38;5;21;01m.\u001b[39;00m\u001b[38;5;21;01m_show_versions\u001b[39;00m \u001b[38;5;28;01mimport\u001b[39;00m show_versions\n\u001b[0;32m     85\u001b[0m __all__ \u001b[38;5;241m=\u001b[39m [\n\u001b[0;32m     86\u001b[0m     \u001b[38;5;124m\"\u001b[39m\u001b[38;5;124mcalibration\u001b[39m\u001b[38;5;124m\"\u001b[39m,\n\u001b[0;32m     87\u001b[0m     \u001b[38;5;124m\"\u001b[39m\u001b[38;5;124mcluster\u001b[39m\u001b[38;5;124m\"\u001b[39m,\n\u001b[1;32m   (...)\u001b[0m\n\u001b[0;32m    128\u001b[0m     \u001b[38;5;124m\"\u001b[39m\u001b[38;5;124mshow_versions\u001b[39m\u001b[38;5;124m\"\u001b[39m,\n\u001b[0;32m    129\u001b[0m ]\n",
      "File \u001b[1;32m~\\anaconda3\\lib\\site-packages\\sklearn\\base.py:17\u001b[0m\n\u001b[0;32m     15\u001b[0m \u001b[38;5;28;01mfrom\u001b[39;00m \u001b[38;5;21;01m.\u001b[39;00m \u001b[38;5;28;01mimport\u001b[39;00m __version__\n\u001b[0;32m     16\u001b[0m \u001b[38;5;28;01mfrom\u001b[39;00m \u001b[38;5;21;01m.\u001b[39;00m\u001b[38;5;21;01m_config\u001b[39;00m \u001b[38;5;28;01mimport\u001b[39;00m get_config\n\u001b[1;32m---> 17\u001b[0m \u001b[38;5;28;01mfrom\u001b[39;00m \u001b[38;5;21;01m.\u001b[39;00m\u001b[38;5;21;01mutils\u001b[39;00m \u001b[38;5;28;01mimport\u001b[39;00m _IS_32BIT\n\u001b[0;32m     18\u001b[0m \u001b[38;5;28;01mfrom\u001b[39;00m \u001b[38;5;21;01m.\u001b[39;00m\u001b[38;5;21;01mutils\u001b[39;00m\u001b[38;5;21;01m.\u001b[39;00m\u001b[38;5;21;01m_tags\u001b[39;00m \u001b[38;5;28;01mimport\u001b[39;00m (\n\u001b[0;32m     19\u001b[0m     _DEFAULT_TAGS,\n\u001b[0;32m     20\u001b[0m )\n\u001b[0;32m     21\u001b[0m \u001b[38;5;28;01mfrom\u001b[39;00m \u001b[38;5;21;01m.\u001b[39;00m\u001b[38;5;21;01mutils\u001b[39;00m\u001b[38;5;21;01m.\u001b[39;00m\u001b[38;5;21;01mvalidation\u001b[39;00m \u001b[38;5;28;01mimport\u001b[39;00m check_X_y\n",
      "File \u001b[1;32m~\\anaconda3\\lib\\site-packages\\sklearn\\utils\\__init__.py:24\u001b[0m\n\u001b[0;32m     21\u001b[0m \u001b[38;5;28;01mimport\u001b[39;00m \u001b[38;5;21;01mnumpy\u001b[39;00m \u001b[38;5;28;01mas\u001b[39;00m \u001b[38;5;21;01mnp\u001b[39;00m\n\u001b[0;32m     22\u001b[0m \u001b[38;5;28;01mfrom\u001b[39;00m \u001b[38;5;21;01mscipy\u001b[39;00m\u001b[38;5;21;01m.\u001b[39;00m\u001b[38;5;21;01msparse\u001b[39;00m \u001b[38;5;28;01mimport\u001b[39;00m issparse\n\u001b[1;32m---> 24\u001b[0m \u001b[38;5;28;01mfrom\u001b[39;00m \u001b[38;5;21;01m.\u001b[39;00m\u001b[38;5;21;01mmurmurhash\u001b[39;00m \u001b[38;5;28;01mimport\u001b[39;00m murmurhash3_32\n\u001b[0;32m     25\u001b[0m \u001b[38;5;28;01mfrom\u001b[39;00m \u001b[38;5;21;01m.\u001b[39;00m\u001b[38;5;21;01mclass_weight\u001b[39;00m \u001b[38;5;28;01mimport\u001b[39;00m compute_class_weight, compute_sample_weight\n\u001b[0;32m     26\u001b[0m \u001b[38;5;28;01mfrom\u001b[39;00m \u001b[38;5;21;01m.\u001b[39;00m \u001b[38;5;28;01mimport\u001b[39;00m _joblib\n",
      "File \u001b[1;32msklearn\\utils\\murmurhash.pyx:1\u001b[0m, in \u001b[0;36minit sklearn.utils.murmurhash\u001b[1;34m()\u001b[0m\n",
      "\u001b[1;31mValueError\u001b[0m: numpy.ndarray size changed, may indicate binary incompatibility. Expected 96 from C header, got 88 from PyObject"
     ]
    }
   ],
   "source": [
    "from bboxes.nnbb import NeuralNetworkBlackBox"
   ]
  },
  {
   "cell_type": "code",
   "execution_count": 1,
   "id": "686ab8a4",
   "metadata": {
    "scrolled": false
   },
   "outputs": [
    {
     "ename": "NameError",
     "evalue": "name 'NeuralNetworkBlackBox' is not defined",
     "output_type": "error",
     "traceback": [
      "\u001b[1;31m---------------------------------------------------------------------------\u001b[0m",
      "\u001b[1;31mNameError\u001b[0m                                 Traceback (most recent call last)",
      "Cell \u001b[1;32mIn[1], line 5\u001b[0m\n\u001b[0;32m      3\u001b[0m regularized \u001b[38;5;241m=\u001b[39m \u001b[38;5;28;01mFalse\u001b[39;00m\n\u001b[0;32m      4\u001b[0m setting \u001b[38;5;241m=\u001b[39m [\u001b[38;5;241m0\u001b[39m, \u001b[38;5;241m0\u001b[39m, \u001b[38;5;241m1\u001b[39m]\n\u001b[1;32m----> 5\u001b[0m bb \u001b[38;5;241m=\u001b[39m \u001b[43mNeuralNetworkBlackBox\u001b[49m(db_name\u001b[38;5;241m=\u001b[39mds_name, regularized\u001b[38;5;241m=\u001b[39mregularized)\n\u001b[0;32m      6\u001b[0m \u001b[38;5;66;03m# bb = DecisionTreeBlackBox(db_name=ds_name, regularized=regularized)\u001b[39;00m\n\u001b[0;32m      7\u001b[0m \u001b[38;5;66;03m# bb = RandomForestBlackBox(db_name=ds_name, regularized=regularized)\u001b[39;00m\n\u001b[0;32m      8\u001b[0m att \u001b[38;5;241m=\u001b[39m LabelOnly_attack(bb, NOISE_SAMPLES, db_name\u001b[38;5;241m=\u001b[39mds_name, settings\u001b[38;5;241m=\u001b[39msetting, write_files\u001b[38;5;241m=\u001b[39m\u001b[38;5;28;01mFalse\u001b[39;00m)\n",
      "\u001b[1;31mNameError\u001b[0m: name 'NeuralNetworkBlackBox' is not defined"
     ]
    }
   ],
   "source": [
    "NOISE_SAMPLES = 1000\n",
    "ds_name = 'synth'\n",
    "regularized = False\n",
    "setting = [0, 0, 1]\n",
    "bb = NeuralNetworkBlackBox(db_name=ds_name, regularized=regularized)\n",
    "# bb = DecisionTreeBlackBox(db_name=ds_name, regularized=regularized)\n",
    "# bb = RandomForestBlackBox(db_name=ds_name, regularized=regularized)\n",
    "att = LabelOnly_attack(bb, NOISE_SAMPLES, db_name=ds_name, settings=setting, write_files=False)\n",
    "att.start_attack()"
   ]
  },
  {
   "cell_type": "code",
   "execution_count": null,
   "id": "7ab4bd4d",
   "metadata": {},
   "outputs": [],
   "source": []
  }
 ],
 "metadata": {
  "kernelspec": {
   "display_name": "Python 3 (ipykernel)",
   "language": "python",
   "name": "python3"
  },
  "language_info": {
   "codemirror_mode": {
    "name": "ipython",
    "version": 3
   },
   "file_extension": ".py",
   "mimetype": "text/x-python",
   "name": "python",
   "nbconvert_exporter": "python",
   "pygments_lexer": "ipython3",
   "version": "3.10.9"
  }
 },
 "nbformat": 4,
 "nbformat_minor": 5
}
